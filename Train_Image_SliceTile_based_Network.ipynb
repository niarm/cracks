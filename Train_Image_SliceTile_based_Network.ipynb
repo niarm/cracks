{
 "cells": [
  {
   "cell_type": "code",
   "execution_count": 1,
   "metadata": {},
   "outputs": [
    {
     "name": "stderr",
     "output_type": "stream",
     "text": [
      "Using TensorFlow backend.\n"
     ]
    }
   ],
   "source": [
    "import sys\n",
    "import cv2\n",
    "import os\n",
    "import random\n",
    "import numpy as np\n",
    "\n",
    "import tensorflow as tf\n",
    "from keras import applications\n",
    "from keras.preprocessing.image import ImageDataGenerator\n",
    "from keras import optimizers\n",
    "from keras.models import Sequential, Model \n",
    "from keras.layers import Dropout, Flatten, Dense, GlobalAveragePooling2D, Input\n",
    "from keras import backend as k \n",
    "from keras.callbacks import ModelCheckpoint, LearningRateScheduler, TensorBoard, EarlyStopping\n",
    "\n",
    "import sys\n",
    "from PIL import Image\n",
    "sys.modules['Image'] = Image\n",
    "\n",
    "import matplotlib.pyplot as plt\n",
    "import imageutils as imageutils\n",
    "%matplotlib inline\n",
    "\n",
    "assert (sys.version_info[0]>=3 and sys.version_info[1]>=6), \"Wrong Python Version. Please use >3.6\""
   ]
  },
  {
   "cell_type": "markdown",
   "metadata": {},
   "source": [
    "#### Load Images and initialize Data-Augmented Data-Loaders"
   ]
  },
  {
   "cell_type": "code",
   "execution_count": null,
   "metadata": {
    "collapsed": true
   },
   "outputs": [],
   "source": [
    "img_width, img_height = 112, 112\n",
    "\n",
    "train_data_dir = \"./data/slices/train\"\n",
    "validation_data_dir = \"./data/slices/validation\"\n",
    "\n",
    "batch_size = 32\n",
    "epochs = 1000"
   ]
  },
  {
   "cell_type": "code",
   "execution_count": null,
   "metadata": {},
   "outputs": [],
   "source": [
    "trainDatagenerator = ImageDataGenerator(\n",
    "    horizontal_flip = True,\n",
    "    vertical_flip = True,\n",
    "    zoom_range = [0.0, 0.2],\n",
    "    rescale = 1./255)\n",
    "\n",
    "testDatagenerator = ImageDataGenerator(rescale = 1./255)\n",
    "\n",
    "trainGenerator = trainDatagenerator.flow_from_directory(\n",
    "train_data_dir,\n",
    "target_size = (img_height, img_width),\n",
    "batch_size = batch_size, \n",
    "shuffle=True,\n",
    "class_mode = \"categorical\")\n",
    "\n",
    "validationGenerator = testDatagenerator.flow_from_directory(\n",
    "validation_data_dir,\n",
    "target_size = (img_height, img_width),\n",
    "class_mode = \"categorical\")\n",
    "\n",
    "nb_train_samples = trainGenerator.n\n",
    "nb_validation_samples = validationGenerator.n"
   ]
  },
  {
   "cell_type": "code",
   "execution_count": null,
   "metadata": {},
   "outputs": [],
   "source": [
    "validationGenerator.class_indices"
   ]
  },
  {
   "cell_type": "markdown",
   "metadata": {},
   "source": [
    "#### Initialize Model (VGG19 for initial test - should switch to Resnet later...)"
   ]
  },
  {
   "cell_type": "code",
   "execution_count": null,
   "metadata": {},
   "outputs": [],
   "source": [
    "model = applications.VGG19(weights = None, include_top=False, input_shape = (img_width, img_height, 3))\n",
    "model.summary()"
   ]
  },
  {
   "cell_type": "markdown",
   "metadata": {
    "collapsed": true
   },
   "source": [
    "#### (VGG19) Freeze the model-layers for transfer-learning and add new classification-layers to the end"
   ]
  },
  {
   "cell_type": "code",
   "execution_count": null,
   "metadata": {},
   "outputs": [],
   "source": [
    "def pop(model):\n",
    "    '''Removes a layer instance on top of the layer stack.\n",
    "    '''\n",
    "    if not model.outputs:\n",
    "        raise Exception('Sequential model cannot be popped: model is empty.')\n",
    "    else:\n",
    "        model.layers.pop()\n",
    "        if not model.layers:\n",
    "            model.outputs = []\n",
    "            model.inbound_nodes = []\n",
    "            model.outbound_nodes = []\n",
    "        else:\n",
    "            model.layers[-1].outbound_nodes = []\n",
    "            model.outputs = [model.layers[-1].output]\n",
    "            #model.output = model.outputs[0]\n",
    "        model.built = False\n",
    "\n",
    "\n",
    "\n",
    "remove_layers_from_end_amount = 10\n",
    "for i in range(remove_layers_from_end_amount):\n",
    "    pop(model)"
   ]
  },
  {
   "cell_type": "code",
   "execution_count": null,
   "metadata": {},
   "outputs": [],
   "source": [
    "model.outputs[0]"
   ]
  },
  {
   "cell_type": "code",
   "execution_count": null,
   "metadata": {},
   "outputs": [],
   "source": [
    "model.output"
   ]
  },
  {
   "cell_type": "code",
   "execution_count": null,
   "metadata": {},
   "outputs": [],
   "source": [
    "\n",
    "x = model.outputs[0]\n",
    "x = Flatten()(x)\n",
    "x = Dense(128, activation=\"relu\")(x)\n",
    "x = Dropout(0.15)(x)\n",
    "x = Dense(64, activation=\"relu\")(x)\n",
    "\n",
    "predictions = Dense(int(len(validationGenerator.class_indices)), activation=\"softmax\")(x)\n",
    "\n",
    "#for layer in model.layers[:6]:\n",
    "#    layer.trainable = False\n",
    "\n",
    "model_final = Model(inputs = model.input, outputs = predictions)\n",
    "model_final.summary()"
   ]
  },
  {
   "cell_type": "code",
   "execution_count": null,
   "metadata": {},
   "outputs": [],
   "source": [
    "model.layers[:12]"
   ]
  },
  {
   "cell_type": "markdown",
   "metadata": {},
   "source": [
    "#### Initialize Model (Resnet50) Option (A): Transfer Learning"
   ]
  },
  {
   "cell_type": "code",
   "execution_count": null,
   "metadata": {},
   "outputs": [],
   "source": [
    "model = applications.resnet50.ResNet50(input_tensor=Input(shape=(img_width, img_height, 3)), include_top=True,weights='imagenet')"
   ]
  },
  {
   "cell_type": "markdown",
   "metadata": {},
   "source": [
    "#### (Resnet50) Option (A) Freeze the model-layers for transfer-learning and add one classification-layer"
   ]
  },
  {
   "cell_type": "code",
   "execution_count": null,
   "metadata": {},
   "outputs": [],
   "source": [
    "x = model.get_layer('avg_pool').output\n",
    "x= Flatten(name='flatten')(x)\n",
    "predictions = Dense(int(len(validationGenerator.class_indices), activation='softmax')(x)\n",
    "\n",
    "model_final = Model(inputs=model.input, outputs= predictions)\n",
    "\n",
    "for layer in model_final.layers[:-1]:\n",
    "    layer.trainable = False\n",
    "\n",
    "model_final.layers[-1].trainable = True\n",
    "\n",
    "model_final.summary()"
   ]
  },
  {
   "cell_type": "markdown",
   "metadata": {},
   "source": [
    "#### Initialize Model (Resnet50) Option (B): Fine-Tuning"
   ]
  },
  {
   "cell_type": "code",
   "execution_count": null,
   "metadata": {},
   "outputs": [],
   "source": [
    "model = applications.resnet50.ResNet50(weights='imagenet',include_top=False)"
   ]
  },
  {
   "cell_type": "markdown",
   "metadata": {},
   "source": [
    "#### (Resnet50) Option (B) Freeze the model and replace the \"top\""
   ]
  },
  {
   "cell_type": "code",
   "execution_count": null,
   "metadata": {},
   "outputs": [],
   "source": [
    "x = model.output\n",
    "x = GlobalAveragePooling2D()(x)\n",
    "x = Dense(512, activation='relu')(x)\n",
    "x = Dropout(0.5)(x)\n",
    "x = Dense(256, activation='relu')(x)\n",
    "x = Dropout(0.5)(x)\n",
    "\n",
    "predictions = Dense(int(len(validationGenerator.class_indices)), activation='softmax')(x)\n",
    "\n",
    "model_final = Model(inputs=model.input, outputs=predictions)\n",
    "\n",
    "#for layer in model_final.layers[:-6]:\n",
    "#    layer.trainable = False\n",
    "\n",
    "model_final.layers[-1].trainable = True\n",
    "model_final.summary()"
   ]
  },
  {
   "cell_type": "markdown",
   "metadata": {},
   "source": [
    "#### OPTIONAL: Load Model-Weights from saved checkpoint if you already creaded one\n",
    "You can use this if you had to intercept your training for whatever reason. It makes absolutely no difference, if you load an already trained model or start from scratch"
   ]
  },
  {
   "cell_type": "code",
   "execution_count": null,
   "metadata": {
    "collapsed": true
   },
   "outputs": [],
   "source": [
    "checkpoint_dir = \"crackDetection_vgg19_half.hdf5\"\n",
    "model_final.load_weights(checkpoint_dir)"
   ]
  },
  {
   "cell_type": "markdown",
   "metadata": {},
   "source": [
    "#### Compile the adjusted Model"
   ]
  },
  {
   "cell_type": "code",
   "execution_count": null,
   "metadata": {
    "collapsed": true
   },
   "outputs": [],
   "source": [
    "model_final.compile(loss = \"categorical_crossentropy\", optimizer = optimizers.Adam(lr=0.0001), metrics=[\"accuracy\"])"
   ]
  },
  {
   "cell_type": "code",
   "execution_count": null,
   "metadata": {},
   "outputs": [],
   "source": [
    "#model_final.summary()"
   ]
  },
  {
   "cell_type": "markdown",
   "metadata": {},
   "source": [
    "#### creating Checkpoints for Early-Stopping and to save the best Model"
   ]
  },
  {
   "cell_type": "code",
   "execution_count": null,
   "metadata": {
    "collapsed": true
   },
   "outputs": [],
   "source": [
    "checkpoint = ModelCheckpoint('./savedModels/crackDetection_vgg19_half_scratchtest.hdf5', monitor='val_acc', verbose=1, save_best_only=True, save_weights_only=False, mode='auto', period=1)\n",
    "early = EarlyStopping(monitor='val_acc', min_delta=0, patience=25, verbose=1, mode='auto')\n"
   ]
  },
  {
   "cell_type": "code",
   "execution_count": null,
   "metadata": {
    "collapsed": true
   },
   "outputs": [],
   "source": []
  },
  {
   "cell_type": "markdown",
   "metadata": {},
   "source": [
    "#### Do the Training!"
   ]
  },
  {
   "cell_type": "code",
   "execution_count": null,
   "metadata": {},
   "outputs": [],
   "source": [
    "model_final.fit_generator(\n",
    "trainGenerator,\n",
    "steps_per_epoch = int(nb_train_samples/batch_size),\n",
    "epochs = epochs,\n",
    "validation_data = validationGenerator,\n",
    "validation_steps = nb_validation_samples,\n",
    "callbacks = [checkpoint, early])"
   ]
  },
  {
   "cell_type": "code",
   "execution_count": null,
   "metadata": {
    "collapsed": true
   },
   "outputs": [],
   "source": [
    "int(nb_train_samples/batch_size)"
   ]
  },
  {
   "cell_type": "markdown",
   "metadata": {},
   "source": [
    "#### Do some Test-Prediction"
   ]
  },
  {
   "cell_type": "code",
   "execution_count": null,
   "metadata": {},
   "outputs": [],
   "source": [
    "from skimage.transform import resize\n",
    "TEST_DIR = \"data/slices/validation/cracks\"\n",
    "testImages = imageutils.getImageListFromDir(TEST_DIR)\n",
    "print(\"Images in Test Folder: {}\".format(str(len(testImages))))"
   ]
  },
  {
   "cell_type": "code",
   "execution_count": null,
   "metadata": {},
   "outputs": [],
   "source": [
    "index = random.randint(0,len(testImages)-1)\n",
    "x = testImages[index]\n",
    "x = resize(x, (img_width, img_height))\n",
    "plt.imshow(x)\n",
    "\n",
    "x = x.reshape((1,img_width,img_height,3))\n",
    "\n",
    "pred = model_final.predict(x)\n",
    "\n",
    "print(pred)\n",
    "\n",
    "cracks = [(item[0], pred[0][item[1]] ) for item in validationGenerator.class_indices.items() if item[1]==np.argmax(pred[0])]\n",
    "print(cracks)\n"
   ]
  },
  {
   "cell_type": "code",
   "execution_count": null,
   "metadata": {},
   "outputs": [],
   "source": [
    "validationGenerator.class_indices"
   ]
  },
  {
   "cell_type": "code",
   "execution_count": 2,
   "metadata": {},
   "outputs": [
    {
     "data": {
      "text/plain": [
       "'1.10.0'"
      ]
     },
     "execution_count": 2,
     "metadata": {},
     "output_type": "execute_result"
    }
   ],
   "source": []
  },
  {
   "cell_type": "code",
   "execution_count": null,
   "metadata": {},
   "outputs": [],
   "source": []
  },
  {
   "cell_type": "code",
   "execution_count": null,
   "metadata": {
    "collapsed": true
   },
   "outputs": [],
   "source": []
  },
  {
   "cell_type": "code",
   "execution_count": null,
   "metadata": {
    "collapsed": true
   },
   "outputs": [],
   "source": []
  }
 ],
 "metadata": {
  "kernelspec": {
   "display_name": "Python (vsionai-env)",
   "language": "python",
   "name": "vsionai"
  },
  "language_info": {
   "codemirror_mode": {
    "name": "ipython",
    "version": 3
   },
   "file_extension": ".py",
   "mimetype": "text/x-python",
   "name": "python",
   "nbconvert_exporter": "python",
   "pygments_lexer": "ipython3",
   "version": "3.6.6"
  }
 },
 "nbformat": 4,
 "nbformat_minor": 2
}
